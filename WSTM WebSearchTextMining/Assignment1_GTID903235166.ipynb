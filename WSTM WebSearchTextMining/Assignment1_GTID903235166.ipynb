{
 "cells": [
  {
   "cell_type": "code",
   "execution_count": 7,
   "metadata": {
    "collapsed": true
   },
   "outputs": [],
   "source": [
    "# Import the pandas package, then use the \"read_csv\" function to read\n",
    "# the labeled training data\n",
    "\n",
    "import pandas as pd\n",
    "import re\n",
    "from bs4 import BeautifulSoup\n",
    "\n",
    "train = pd.read_csv(\"labeledTrainData.tsv\", header = 0, delimiter = \"\\t\", quoting = 3)"
   ]
  },
  {
   "cell_type": "code",
   "execution_count": 7,
   "metadata": {
    "collapsed": false
   },
   "outputs": [],
   "source": [
    "#Python Natural Language Toolkit for stop words, etc.\n",
    "import nltk\n",
    "#nltk.download()  # Download text data sets, including stop words"
   ]
  },
  {
   "cell_type": "code",
   "execution_count": 8,
   "metadata": {
    "collapsed": false
   },
   "outputs": [],
   "source": [
    "from nltk.corpus import stopwords # Import the stop word list\n",
    "#print (stopwords.words(\"english\")) "
   ]
  },
  {
   "cell_type": "code",
   "execution_count": 10,
   "metadata": {
    "collapsed": true
   },
   "outputs": [],
   "source": [
    "def review_to_words( raw_review ):\n",
    "    # Function to convert a raw review to a string of words\n",
    "    # The input is a single string (a raw movie review), and \n",
    "    # the output is a single string (a preprocessed movie review)\n",
    "    #\n",
    "    # 1. Remove HTML\n",
    "    review_text = BeautifulSoup(raw_review, 'html.parser').get_text() \n",
    "    #\n",
    "    # 2. Remove non-letters        \n",
    "    letters_only = re.sub(\"[^a-zA-Z]\", \" \", review_text) \n",
    "    #\n",
    "    # 3. Convert to lower case, split into individual words\n",
    "    words = letters_only.lower().split()                             \n",
    "    #\n",
    "    # 4. In Python, searching a set is much faster than searching\n",
    "    #   a list, so convert the stop words to a set\n",
    "    stops = set(stopwords.words(\"english\"))                 \n",
    "    # \n",
    "    # 5. Remove stop words\n",
    "    meaningful_words = [w for w in words if not w in stops]   \n",
    "    #\n",
    "    # 6. Join the words back into one string separated by space, \n",
    "    # and return the result.\n",
    "    return( \" \".join( meaningful_words ))"
   ]
  },
  {
   "cell_type": "code",
   "execution_count": 11,
   "metadata": {
    "collapsed": false
   },
   "outputs": [],
   "source": [
    "clean_review = review_to_words( train[\"review\"][0] )\n",
    "print (clean_review)"
   ]
  },
  {
   "cell_type": "code",
   "execution_count": 13,
   "metadata": {
    "collapsed": false
   },
   "outputs": [
    {
     "name": "stdout",
     "output_type": "stream",
     "text": [
      "25000\n"
     ]
    }
   ],
   "source": [
    "#print(clean_train_reviews[:1])\n",
    "print(len(clean_train_reviews))"
   ]
  },
  {
   "cell_type": "markdown",
   "metadata": {
    "collapsed": true
   },
   "source": [
    "### Q1. Creating Design Matrices "
   ]
  },
  {
   "cell_type": "code",
   "execution_count": 14,
   "metadata": {
    "collapsed": false
   },
   "outputs": [
    {
     "name": "stdout",
     "output_type": "stream",
     "text": [
      "Creating the bag of words...\n",
      "\n"
     ]
    }
   ],
   "source": [
    "print (\"Creating the bag of words...\\n\")\n",
    "from sklearn.feature_extraction.text import CountVectorizer\n",
    "\n",
    "# Initialize the \"CountVectorizer\" object, which is scikit-learn's\n",
    "# bag of words tool.  \n",
    "vectorizer = CountVectorizer(analyzer = \"word\",   \\\n",
    "                             tokenizer = None,    \\\n",
    "                             preprocessor = None, \\\n",
    "                             stop_words = None,   \\\n",
    "                             max_features = 5000) \n",
    "\n",
    "# fit_transform() does two functions: First, it fits the model\n",
    "# and learns the vocabulary; second, it transforms our training data\n",
    "# into feature vectors. The input to fit_transform should be a list of \n",
    "# strings.\n",
    "train_data_features = vectorizer.fit_transform(clean_train_reviews)\n",
    "\n",
    "# Numpy arrays are easy to work with, so convert the result to an \n",
    "# array\n",
    "#train_data_features = train_data_features.toarray()\n",
    "\n",
    "X_counts = train_data_features.toarray()"
   ]
  },
  {
   "cell_type": "markdown",
   "metadata": {},
   "source": [
    "#### X_counts created"
   ]
  },
  {
   "cell_type": "code",
   "execution_count": 15,
   "metadata": {
    "collapsed": false
   },
   "outputs": [
    {
     "name": "stdout",
     "output_type": "stream",
     "text": [
      "(25000, 5000)\n",
      "4\n"
     ]
    }
   ],
   "source": [
    "########## X_counts created ##########\n",
    "print (X_counts.shape)\n",
    "print(max(X_counts[3]))"
   ]
  },
  {
   "cell_type": "markdown",
   "metadata": {},
   "source": [
    "#### Creating X_binary"
   ]
  },
  {
   "cell_type": "code",
   "execution_count": 16,
   "metadata": {
    "collapsed": false
   },
   "outputs": [],
   "source": [
    "######### Creating X_binary #########\n",
    "\n",
    "import numpy as np\n",
    "\n",
    "X_binary = np.zeros(shape=(25000,5000))\n",
    "\n",
    "for i in range(0,24999):\n",
    "    for j in range(0,4999):\n",
    "        if (X_counts[i][j] > 0):\n",
    "            X_binary[i][j] = 1\n",
    "            \n",
    "            "
   ]
  },
  {
   "cell_type": "code",
   "execution_count": 17,
   "metadata": {
    "collapsed": false
   },
   "outputs": [
    {
     "name": "stdout",
     "output_type": "stream",
     "text": [
      "(25000, 5000)\n",
      "1.0\n"
     ]
    }
   ],
   "source": [
    "print (X_binary.shape)\n",
    "print(max(X_binary[10]))"
   ]
  },
  {
   "cell_type": "markdown",
   "metadata": {},
   "source": [
    "#### Creating X_tfidf"
   ]
  },
  {
   "cell_type": "code",
   "execution_count": 18,
   "metadata": {
    "collapsed": true
   },
   "outputs": [],
   "source": [
    "############ Creating X_tfidf ##############\n",
    "import sklearn\n",
    "from sklearn.feature_extraction.text import TfidfTransformer"
   ]
  },
  {
   "cell_type": "code",
   "execution_count": 19,
   "metadata": {
    "collapsed": false
   },
   "outputs": [],
   "source": [
    "tfidf_transformer = TfidfTransformer(smooth_idf=False)\n",
    "X_tfidf = tfidf_transformer.fit_transform(X_counts)"
   ]
  },
  {
   "cell_type": "markdown",
   "metadata": {},
   "source": [
    "#### Creating X_imbalance"
   ]
  },
  {
   "cell_type": "code",
   "execution_count": 20,
   "metadata": {
    "collapsed": false
   },
   "outputs": [
    {
     "name": "stdout",
     "output_type": "stream",
     "text": [
      "9375\n",
      "(15625, 5000)\n",
      "(25000, 5000)\n"
     ]
    }
   ],
   "source": [
    "############## Creating X_imbalance ############\n",
    "import random\n",
    "random.seed(0)\n",
    "\n",
    "\n",
    "indSent1 = train[train['sentiment'] == 1].index.values.tolist()\n",
    "#print(len(indSent1))\n",
    "indDel = np.random.choice(indSent1, 9375, replace = False)\n",
    "\n",
    "\n",
    "print(len(indDel))\n",
    "\n",
    "X_binary_imbalance = np.delete(X_binary, indDel, axis = 0)\n",
    "\n",
    "print(X_binary_imbalance.shape)\n",
    "print(X_binary.shape)\n",
    "\n",
    "\n"
   ]
  },
  {
   "cell_type": "code",
   "execution_count": 21,
   "metadata": {
    "collapsed": false
   },
   "outputs": [
    {
     "name": "stdout",
     "output_type": "stream",
     "text": [
      "ability\n"
     ]
    }
   ],
   "source": [
    "# Take a look at the words in the vocabulary\n",
    "vocab = vectorizer.get_feature_names()\n",
    "print (vocab[3])"
   ]
  },
  {
   "cell_type": "code",
   "execution_count": 22,
   "metadata": {
    "collapsed": false
   },
   "outputs": [
    {
     "name": "stdout",
     "output_type": "stream",
     "text": [
      "[[187 125 108 ..., 740 518 147]] abandoned\n"
     ]
    }
   ],
   "source": [
    "import numpy as np\n",
    "\n",
    "# Sum up the counts of each vocabulary word\n",
    "dist = np.sum(train_data_features, axis=0)\n",
    "\n",
    "# For each, print the vocabulary word and the number of times it \n",
    "# appears in the training set\n",
    "for tag, count in zip(vocab, dist):\n",
    "    print (count, tag)"
   ]
  },
  {
   "cell_type": "markdown",
   "metadata": {
    "collapsed": true
   },
   "source": [
    "### Q2. Feature Space Similarity Experiment"
   ]
  },
  {
   "cell_type": "code",
   "execution_count": 23,
   "metadata": {
    "collapsed": false
   },
   "outputs": [
    {
     "name": "stdout",
     "output_type": "stream",
     "text": [
      "3.0\n"
     ]
    }
   ],
   "source": [
    "\n",
    "import math\n",
    "\n",
    "\n",
    "\n",
    "def dist(X, i, j, distance_function = 'Euclidean'):\n",
    "    \n",
    "    if (distance_function == 'Euclidean'):\n",
    "        if((i <= len(X)-1) & (i >= 0) & (j <= len (X)-1) & (j >= 0)):\n",
    "            sSq = 0\n",
    "            for k in range(0,len(X[0]-1)) :\n",
    "                sSq = sSq + (X[i][k] - X[j][k])**2\n",
    "            return math.sqrt(sSq)\n",
    "        else:\n",
    "            print('For the matrix entered, row indices must be between 0 and', len(X)-1, \"both inclusive\")\n",
    "            return\n",
    "        \n",
    "    else:\n",
    "        print('distance_function must be \"Euclidean\"')\n",
    "        return\n",
    "    \n",
    "print(dist(a, 0, 1, 'Euclidean'))\n",
    "\n"
   ]
  },
  {
   "cell_type": "code",
   "execution_count": 24,
   "metadata": {
    "collapsed": false
   },
   "outputs": [
    {
     "data": {
      "text/plain": [
       "3.0"
      ]
     },
     "execution_count": 24,
     "metadata": {},
     "output_type": "execute_result"
    }
   ],
   "source": [
    "from sklearn.metrics.pairwise import euclidean_distances\n",
    "\n",
    "from scipy.spatial.distance import pdist\n",
    "\n",
    "#pdist(a, metric = 'euclidean')[0]"
   ]
  },
  {
   "cell_type": "markdown",
   "metadata": {},
   "source": [
    "###### Because of system's computational limitations, creating Euclidean distance matrix in three parts \n",
    "###### by dividing the design matrix into two - row-wise parts\n",
    "###### Then computing Euclidean distances between rows within each of the matrices, and between two matrices\n",
    "###### Note: In Euclidean distance matrices, upper and lower triangular values are identical, so we can save computation"
   ]
  },
  {
   "cell_type": "code",
   "execution_count": 30,
   "metadata": {
    "collapsed": true
   },
   "outputs": [],
   "source": [
    "\n",
    "\n",
    "def topk(X, k):\n",
    "    \n",
    "    topkMatr = np.full((k,3),100)\n",
    "    \n",
    "    halfRow = int(len(X)/2)\n",
    "    \n",
    "    \n",
    "    testMatr0 = euclidean_distances(X[:halfRow,:])\n",
    "    \n",
    "    testMatr1 = euclidean_distances(X[:halfRow,:], X[halfRow+1:,:])\n",
    "    \n",
    "    testMatr2 = euclidean_distances(X[halfRow+1:,:])\n",
    " \n",
    "\n",
    "    for i in range(0,len(testMatr0[0])-1):\n",
    "        for j in range(i+1, len(testMatr0[0])-1):\n",
    "            for l in range(0, k-1):\n",
    "                if (testMatr0[i][j] < topkMatr[l][2]):\n",
    "                    topkMatr[l][2] = testMatr0[i][j]\n",
    "                    topkMatr[l][0] = i\n",
    "                    topkMatr[l][1] = j\n",
    "                    break\n",
    "    \n",
    "    for i in range(0,len(testMatr1[0])-1):\n",
    "        for j in range(0, len(testMatr1[0])-1):\n",
    "            for l in range(0, k-1):\n",
    "                if (testMatr1[i][j] < topkMatr[l][2]):\n",
    "                    topkMatr[l][2] = testMatr1[i][j]\n",
    "                    topkMatr[l][0] = i\n",
    "                    topkMatr[l][1] = j\n",
    "                    break\n",
    "                \n",
    "    for i in range(0,len(testMatr2[0])-1):\n",
    "        for j in range(i+1, len(testMatr2[0])-1):\n",
    "            for l in range(0, k-1):\n",
    "                if (testMatr1[i][j] < topkMatr[l][2]):\n",
    "                    topkMatr[l][2] = testMatr2[i][j]\n",
    "                    topkMatr[l][0] = i\n",
    "                    topkMatr[l][1] = j\n",
    "                    break       \n",
    "    \n",
    "    \n",
    "    return distMatr\n",
    "            "
   ]
  },
  {
   "cell_type": "markdown",
   "metadata": {
    "collapsed": true
   },
   "source": [
    "#### The closest pairs in terms of Euclidean distances are the same in X_counts, X_binary"
   ]
  },
  {
   "cell_type": "code",
   "execution_count": 29,
   "metadata": {
    "collapsed": true
   },
   "outputs": [],
   "source": [
    "topkMatr = np.array([[    37.,   5536.,      0.],\n",
    "       [   326.,   7336.,      0.],\n",
    "       [   531.,   9467.,      0.],\n",
    "       [   612.,  10730.,      0.],\n",
    "       [   727.,  10513.,      0.],\n",
    "       [  1053.,   1416.,      0.],\n",
    "       [  1083.,   3461.,      0.],\n",
    "       [  1290.,   1355.,      0.],\n",
    "       [  1461.,   6013.,      0.],\n",
    "       [  1614.,   3845.,      0.],\n",
    "       [  1971.,  10091.,      0.],\n",
    "       [  2018.,   6396.,      0.],\n",
    "       [  2080.,   7584.,      0.],\n",
    "       [  2159.,   5283.,      0.],\n",
    "       [  2685.,  11597.,      0.],\n",
    "       [  2804.,   4762.,      0.],\n",
    "       [  2968.,  10186.,      0.],\n",
    "       [  3092.,  11620.,      0.],\n",
    "       [  3140.,   5970.,      0.],\n",
    "       [  3264.,   9390.,      0.],\n",
    "       [  3924.,   5796.,      0.],\n",
    "       [  3949.,   5463.,      0.],\n",
    "       [  4543.,  12168.,      0.],\n",
    "       [  4723.,   9740.,      0.],\n",
    "       [  4937.,   7794.,      0.],\n",
    "       [  4975.,   6903.,      0.],\n",
    "       [  4975.,   7610.,      0.],\n",
    "       [  5065.,   6691.,      0.],\n",
    "       [  5078.,  11344.,      0.],\n",
    "       [   100.,    100.,    100.]])"
   ]
  },
  {
   "cell_type": "markdown",
   "metadata": {},
   "source": [
    "##### Constructing the output required in Q2: indices of reviews, euclidean distance, first 40 characters, labels"
   ]
  },
  {
   "cell_type": "code",
   "execution_count": 81,
   "metadata": {
    "collapsed": false
   },
   "outputs": [
    {
     "name": "stdout",
     "output_type": "stream",
     "text": [
      "['Index_1', 'Index_2', 'Euclidean_distance', 'Review_1', 'Review_2', 'Label_1', 'Label_2'] [0, 1, 2, 3, 4, 5, 6, 7, 8, 9, 10, 11, 12, 13, 14, 15, 16, 17, 18, 19, 20, 21, 22, 23, 24, 25, 26, 27, 28, 29]\n",
      "   Index_1 Index_2 Euclidean_distance             Review_1  \\\n",
      "0       37    5536                  0  \"Dumb is as dumb do   \n",
      "1      326    7336                  0   \"This guy has no i   \n",
      "2      531    9467                  0   \"Wow! So much fun!   \n",
      "3      612   10730                  0   \"There is no reaso   \n",
      "4      727   10513                  0   \"This movie surpri   \n",
      "5     1053    1416                  0    \"Awful, simply aw   \n",
      "6     1083    3461                  0    \"Everyone knows a   \n",
      "7     1290    1355                  0    \"I am not so much   \n",
      "8     1461    6013                  0    \"I really enjoyed   \n",
      "9     1614    3845                  0    \"The '60s is an o   \n",
      "10    1971   10091                  0    \"THE JIST: See so   \n",
      "11    2018    6396                  0    \"I find it rather   \n",
      "12    2080    7584                  0    \"I like Chris Roc   \n",
      "13    2159    5283                  0    \"I sat through al   \n",
      "14    2685   11597                  0    \"in this movie, j   \n",
      "15    2804    4762                  0    \"I think this is    \n",
      "16    2968   10186                  0    \"During a Kurt We   \n",
      "17    3092   11620                  0    \"Wow, here it fin   \n",
      "18    3140    5970                  0    \"Do we really nee   \n",
      "19    3264    9390                  0    \"In 1993, \\\"the v   \n",
      "20    3924    5796                  0    \"I watched this m   \n",
      "21    3949    5463                  0    \"Yes, he is! ...N   \n",
      "22    4543   12168                  0    \"Smallville episo   \n",
      "23    4723    9740                  0    \"This movie got o   \n",
      "24    4937    7794                  0    \"A longtime fan o   \n",
      "25    4975    6903                  0    \"When i got this    \n",
      "26    4975    7610                  0    \"When i got this    \n",
      "27    5065    6691                  0    \"German filmmaker   \n",
      "28    5078   11344                  0    \"This film is so    \n",
      "29     100     100                100   \"There is a uk edi   \n",
      "\n",
      "               Review_2 Label_1 Label_2  \n",
      "0     \"Dumb is as dumb        0       0  \n",
      "1     \"This guy has no        0       0  \n",
      "2     \"Wow! So much fun       1       1  \n",
      "3      \"There is no rea       0       0  \n",
      "4      \"This movie surp       1       1  \n",
      "5     \"Awful, simply aw       0       0  \n",
      "6     \"Everyone knows a       1       1  \n",
      "7     \"I am not so much       0       0  \n",
      "8     \"I really enjoyed       1       1  \n",
      "9     \"The '60s is an o       0       0  \n",
      "10     \"THE JIST: See s       1       1  \n",
      "11    \"I find it rather       0       0  \n",
      "12    \"I like Chris Roc       0       0  \n",
      "13    \"I sat through al       0       0  \n",
      "14     \"in this movie,        0       0  \n",
      "15    \"I think this is        0       0  \n",
      "16     \"During a Kurt W       1       1  \n",
      "17     \"Wow, here it fi       0       0  \n",
      "18    \"Do we really nee       0       0  \n",
      "19    \"In 1993, \\\"the v       0       0  \n",
      "20    \"I watched this m       0       0  \n",
      "21    \"Yes, he is! ...N       0       0  \n",
      "22     \"Smallville epis       1       1  \n",
      "23    \"This movie got o       0       0  \n",
      "24    \"A longtime fan o       1       1  \n",
      "25    \"When i got this        0       0  \n",
      "26    \"When i got this        0       0  \n",
      "27    \"German filmmaker       0       0  \n",
      "28     \"This film is so       0       0  \n",
      "29   \"There is a uk edi       0       0  \n"
     ]
    }
   ],
   "source": [
    "\n",
    "cols = ['Index_1', 'Index_2', 'Euclidean_distance', 'Review_1', 'Review_2', 'Label_1', 'Label_2']\n",
    "rows = []\n",
    "for i in range(0,30): \n",
    "    rows.append(i)\n",
    "print(cols, rows)\n",
    "\n",
    "import pandas as pd\n",
    "\n",
    "q2OP = pd.DataFrame(index = rows, columns = cols)\n",
    "#print(q2OP[\"Index_1\"][100])\n",
    "\n",
    "for i in rows:\n",
    "    Index_1 = int(topkMatr[i][0])\n",
    "    Index_2 = int(topkMatr[i][1])\n",
    "    q2OP[\"Index_1\"][i] = Index_1\n",
    "    q2OP[\"Index_2\"][i] = topkMatr[i][1]\n",
    "    q2OP[\"Euclidean_distance\"][i] = topkMatr[i][2]\n",
    "    q2OP[\"Review_1\"][i] = str(train[\"review\"][Index_1:Index_1+1])[6:25]\n",
    "    q2OP[\"Review_2\"][i] = str(train[\"review\"][Index_2:Index_2+1])[6:25]\n",
    "    q2OP[\"Label_1\"][i] = int(train[\"sentiment\"][Index_1:Index_1+1])\n",
    "    q2OP[\"Label_2\"][i] = int(train[\"sentiment\"][Index_2:Index_2+1])\n",
    "\n",
    "\n",
    "print(q2OP)"
   ]
  },
  {
   "cell_type": "code",
   "execution_count": 33,
   "metadata": {
    "collapsed": true
   },
   "outputs": [],
   "source": [
    "testMatr1 = euclidean_distances(X_binary[:12500,:], X_binary[12501:,:])"
   ]
  },
  {
   "cell_type": "code",
   "execution_count": 99,
   "metadata": {
    "collapsed": false
   },
   "outputs": [
    {
     "name": "stdout",
     "output_type": "stream",
     "text": [
      "0\n"
     ]
    }
   ],
   "source": [
    "#testMatr0 = euclidean_distances(X_binary[:12500,:])\n",
    "\n",
    "testCount = 0\n",
    "for i in range(0,12499):\n",
    "    for j in range(0,12499):\n",
    "        if (testMatr0[i][j] != testMatr0[j][i]):\n",
    "            testCount = testCount + 1\n",
    "        \n",
    "print(testCount)        "
   ]
  },
  {
   "cell_type": "code",
   "execution_count": 40,
   "metadata": {
    "collapsed": true
   },
   "outputs": [],
   "source": [
    "testMatr2 = euclidean_distances(X_binary[12501:,:])"
   ]
  },
  {
   "cell_type": "code",
   "execution_count": 50,
   "metadata": {
    "collapsed": false
   },
   "outputs": [
    {
     "data": {
      "text/plain": [
       "array([  0.        ,  13.52774926,  16.24807681,  14.76482306,\n",
       "        16.30950643,  12.60952021,  13.22875656,  13.26649916,\n",
       "        14.07124728,  12.64911064,  12.72792206,  13.52774926,\n",
       "        15.58845727,  13.22875656,  13.07669683,  14.24780685,\n",
       "        15.39480432,  15.62049935,  14.17744688,  12.9614814 ,\n",
       "        14.69693846,  14.83239697,  14.96662955,  12.60952021,\n",
       "        12.52996409,  13.60147051,  13.92838828,  14.62873884,\n",
       "        18.08314132,  13.11487705,  12.60952021,  13.49073756,\n",
       "        13.56465997,  15.23154621,  14.59451952,  14.89966443,\n",
       "        13.41640786,  13.3041347 ,  14.17744688,  16.76305461,\n",
       "        14.52583905,  13.        ,  13.56465997,  13.26649916,\n",
       "        13.67479433,  13.3041347 ,  12.80624847,  13.11487705,\n",
       "        14.28285686,  13.41640786,  13.89244399,  13.26649916,\n",
       "        13.85640646,  13.60147051,  12.489996  ,  13.60147051,\n",
       "        13.82027496,  14.2126704 ,  12.68857754,  15.45962483,\n",
       "        16.61324773,  14.62873884,  13.49073756,  13.56465997,\n",
       "        13.15294644,  12.76714533,  19.6977156 ,  12.64911064,\n",
       "        14.31782106,  13.07669683,  12.9614814 ,  15.42724862,\n",
       "        14.        ,  14.24780685,  13.07669683,  13.92838828,\n",
       "        14.52583905,  13.07669683,  13.15294644,  13.37908816,\n",
       "        13.26649916,  14.35270009,  15.09966887,  13.85640646,\n",
       "        15.71623365,  14.56021978,  15.32970972,  12.64911064,\n",
       "        13.11487705,  12.88409873,  13.19090596,  13.15294644,\n",
       "        12.92284798,  13.41640786,  13.49073756,  14.03566885,\n",
       "        14.31782106,  12.08304597,  14.35270009,  12.72792206])"
      ]
     },
     "execution_count": 50,
     "metadata": {},
     "output_type": "execute_result"
    }
   ],
   "source": [
    "testMatr0[0][:100]"
   ]
  },
  {
   "cell_type": "code",
   "execution_count": 102,
   "metadata": {
    "collapsed": false
   },
   "outputs": [
    {
     "name": "stdout",
     "output_type": "stream",
     "text": [
      "[[    37.   5536.      0.]\n",
      " [   326.   7336.      0.]\n",
      " [   531.   9467.      0.]\n",
      " [   612.  10730.      0.]\n",
      " [   727.  10513.      0.]\n",
      " [  1053.   1416.      0.]\n",
      " [  1083.   3461.      0.]\n",
      " [  1290.   1355.      0.]\n",
      " [  1461.   6013.      0.]\n",
      " [   100.    100.    100.]]\n"
     ]
    }
   ],
   "source": [
    "print(topkMatr)"
   ]
  },
  {
   "cell_type": "markdown",
   "metadata": {
    "collapsed": true
   },
   "source": [
    "#### Q3. Classification Experiment "
   ]
  },
  {
   "cell_type": "code",
   "execution_count": 4,
   "metadata": {
    "collapsed": false
   },
   "outputs": [
    {
     "name": "stdout",
     "output_type": "stream",
     "text": [
      "23:09:58.541611\n"
     ]
    },
    {
     "ename": "NameError",
     "evalue": "name 'train' is not defined",
     "output_type": "error",
     "traceback": [
      "\u001b[0;31m---------------------------------------------------------------------------\u001b[0m",
      "\u001b[0;31mNameError\u001b[0m                                 Traceback (most recent call last)",
      "\u001b[0;32m<ipython-input-4-f30274e1d3a6>\u001b[0m in \u001b[0;36m<module>\u001b[0;34m()\u001b[0m\n\u001b[1;32m      9\u001b[0m \u001b[1;31m#Create the target np array - sentiment label\u001b[0m\u001b[1;33m\u001b[0m\u001b[1;33m\u001b[0m\u001b[0m\n\u001b[1;32m     10\u001b[0m \u001b[1;33m\u001b[0m\u001b[0m\n\u001b[0;32m---> 11\u001b[0;31m \u001b[0mtgtSent\u001b[0m \u001b[1;33m=\u001b[0m \u001b[0mnp\u001b[0m\u001b[1;33m.\u001b[0m\u001b[0marray\u001b[0m\u001b[1;33m(\u001b[0m\u001b[0mtrain\u001b[0m\u001b[1;33m[\u001b[0m\u001b[1;34m\"sentiment\"\u001b[0m\u001b[1;33m]\u001b[0m\u001b[1;33m,\u001b[0m \u001b[0mdtype\u001b[0m\u001b[1;33m=\u001b[0m\u001b[0mpd\u001b[0m\u001b[1;33m.\u001b[0m\u001b[0mSeries\u001b[0m\u001b[1;33m)\u001b[0m\u001b[1;33m\u001b[0m\u001b[0m\n\u001b[0m\u001b[1;32m     12\u001b[0m \u001b[1;33m\u001b[0m\u001b[0m\n\u001b[1;32m     13\u001b[0m \u001b[0mrandSampInd\u001b[0m \u001b[1;33m=\u001b[0m \u001b[0mrandom\u001b[0m\u001b[1;33m.\u001b[0m\u001b[0msample\u001b[0m\u001b[1;33m(\u001b[0m\u001b[0mrange\u001b[0m\u001b[1;33m(\u001b[0m\u001b[1;36m0\u001b[0m\u001b[1;33m,\u001b[0m\u001b[1;36m25000\u001b[0m\u001b[1;33m)\u001b[0m\u001b[1;33m,\u001b[0m\u001b[1;36m1000\u001b[0m\u001b[1;33m)\u001b[0m\u001b[1;33m\u001b[0m\u001b[0m\n",
      "\u001b[0;31mNameError\u001b[0m: name 'train' is not defined"
     ]
    }
   ],
   "source": [
    "################ Estimating the optimal C - repeating experiment 30 times \n",
    "################ using random sample of training set, because of computational limitations\n",
    "import datetime\n",
    "print(datetime.datetime.now().time())\n",
    "\n",
    "import numpy as np\n",
    "##################################\n",
    "\n",
    "#Create the target np array - sentiment label\n",
    "\n",
    "tgtSent = np.array(train[\"sentiment\"], dtype=pd.Series)\n",
    "\n",
    "randSampInd = random.sample(range(0,25000),1000)\n",
    "\n",
    "print(len(tgtSent[randSampInd]))\n",
    "\n",
    "from sklearn.model_selection import train_test_split\n",
    "from sklearn import svm\n",
    "from sklearn.model_selection import cross_val_score\n",
    "\n",
    "import matplotlib.pyplot as plt\n",
    "from itertools import cycle\n",
    "from sklearn.metrics import roc_curve, auc\n",
    "\n",
    "########Because of system's computational limitations, using a random sample of 1000 records\n",
    "\n",
    "X_train, X_test, y_train, y_test = train_test_split(X_binary.astype(int)[randSampInd][:], tgtSent.astype(int)[randSampInd], test_size=0.2, random_state=0)\n",
    "\n",
    "scoresAggr = []\n",
    "cAggr = []\n",
    "\n",
    "for i in range(0,30):\n",
    "    randomPower = random.randrange(-4, 4)\n",
    "    cAggr.append(10**randomPower)\n",
    " \n",
    "    \n",
    "\n",
    "\n",
    "    \n",
    "    clf = svm.SVC(kernel='linear', C=10**randomPower)\n",
    "    scores = cross_val_score(clf, X_train, y_train, cv=5)\n",
    "    \n",
    "    scoresAggr.append(scores)\n",
    "\n",
    "\n",
    "\n",
    "\n"
   ]
  },
  {
   "cell_type": "code",
   "execution_count": 119,
   "metadata": {
    "collapsed": true
   },
   "outputs": [],
   "source": [
    "X_train, X_test, y_train, y_test = train_test_split(X_binary.astype(int), tgtSent.astype(int), test_size=0.2, random_state=0)\n",
    "\n",
    "clf_binary = svm.SVC(kernel='linear', C=0.01).fit(X_train, y_train)\n",
    "\n",
    "y_score = clf_binary.fit(X_train, y_train).decision_function(X_test)"
   ]
  },
  {
   "cell_type": "code",
   "execution_count": null,
   "metadata": {
    "collapsed": true
   },
   "outputs": [],
   "source": [
    "################ Estimating the optimal C - repeating experiment 30 times ######################\n",
    "################ using random sample of training set, because of computational limitations #############\n",
    "import datetime\n",
    "print(datetime.datetime.now().time())\n",
    "##################################\n",
    "\n",
    "#Create the target np array - sentiment label\n",
    "\n",
    "tgtSent = np.array(train[\"sentiment\"], dtype=pd.Series)\n",
    "\n",
    "randSampInd = random.sample(range(0,25000),1000)\n",
    "\n",
    "print(len(tgtSent[randSampInd]))\n",
    "\n",
    "from sklearn.model_selection import train_test_split\n",
    "from sklearn import svm\n",
    "from sklearn.model_selection import cross_val_score\n",
    "\n",
    "import matplotlib.pyplot as plt\n",
    "from itertools import cycle\n",
    "from sklearn.metrics import roc_curve, auc\n",
    "\n",
    "########Because of system's computational limitations, using a random sample of 1000 records\n",
    "\n",
    "X_train, X_test, y_train, y_test = train_test_split(X_counts.astype(int)[randSampInd][:], tgtSent.astype(int)[randSampInd], test_size=0.2, random_state=0)\n",
    "\n",
    "scoresAggr1 = []\n",
    "cAggr1 = []\n",
    "\n",
    "for i in range(0,30):\n",
    "    randomPower = random.randrange(-4, 4)\n",
    "    cAggr.append(10**randomPower)\n",
    " \n",
    "    \n",
    "#clf = svm.SVC(kernel='linear', C=1).fit(X_train, y_train)\n",
    "#print(clf.score(X_test, y_test))\n",
    "\n",
    "    \n",
    "    clf1 = svm.SVC(kernel='linear', C=10**randomPower)\n",
    "    scores1 = cross_val_score(clf1, X_train, y_train, cv=5)\n",
    "    \n",
    "    scoresAggr1.append(scores1)\n",
    "\n",
    "\n",
    "\n",
    "################Delete later\n",
    "\n",
    "print(datetime.datetime.now().time())\n",
    "##################################\n",
    "\n",
    "X_train, X_test, y_train, y_test = train_test_split(X_binary.astype(int), tgtSent.astype(int), test_size=0.2, random_state=0)\n",
    "\n",
    "clf_counts = svm.SVC(kernel='linear', C=1).fit(X_train, y_train)\n",
    "\n",
    "y_score = clf_binary.fit(X_train, y_train).decision_function(X_test)\n"
   ]
  },
  {
   "cell_type": "code",
   "execution_count": null,
   "metadata": {
    "collapsed": true
   },
   "outputs": [],
   "source": [
    "########################### Plotting Receiver Operating Characteristic: X_binary #############################\n",
    "# source: http://scikit-learn.org/stable/auto_examples/model_selection/plot_roc.html#sphx-glr-auto-examples-model-selection-plot-roc-py"
   ]
  },
  {
   "cell_type": "code",
   "execution_count": 130,
   "metadata": {
    "collapsed": false
   },
   "outputs": [
    {
     "name": "stdout",
     "output_type": "stream",
     "text": [
      "5000 5000 20000 20000 5000\n"
     ]
    }
   ],
   "source": [
    "from sklearn.preprocessing import label_binarize\n",
    "\n",
    "bin_y = label_binarize(y_test, classes=[0, 1, 2])\n",
    "n_classes = bin_y.shape[1]\n",
    "print(len(y_score), len(y_test), len(y_train), len(X_train), len(X_test))\n",
    "\n",
    "fpr = dict()\n",
    "tpr = dict()\n",
    "roc_auc = dict()\n",
    "for i in range(n_classes):\n",
    "    fpr[i], tpr[i], _ = roc_curve(y_test, y_score)\n",
    "    roc_auc[i] = auc(fpr[i], tpr[i])\n",
    "\n",
    "# Compute micro-average ROC curve and ROC area\n",
    "fpr[\"micro\"], tpr[\"micro\"], _ = roc_curve(y_test.ravel(), y_score.ravel())\n",
    "roc_auc[\"micro\"] = auc(fpr[\"micro\"], tpr[\"micro\"])"
   ]
  },
  {
   "cell_type": "code",
   "execution_count": 133,
   "metadata": {
    "collapsed": false
   },
   "outputs": [
    {
     "data": {
      "image/png": "[encoded data removed]",
      "text/plain": [
       "<matplotlib.figure.Figure at 0x17ecba78ac8>"
      ]
     },
     "metadata": {},
     "output_type": "display_data"
    }
   ],
   "source": [
    "plt.figure()\n",
    "lw = 2\n",
    "plt.plot(fpr[2], tpr[2], color='darkorange',\n",
    "         lw=lw, label='ROC curve (area = %0.2f)' % roc_auc[2])\n",
    "plt.plot([0, 1], [0, 1], color='navy', lw=lw, linestyle='--')\n",
    "plt.xlim([0.0, 1.0])\n",
    "plt.ylim([0.0, 1.05])\n",
    "plt.xlabel('False Positive Rate')\n",
    "plt.ylabel('True Positive Rate')\n",
    "plt.title('Receiver operating characteristic X_binary')\n",
    "plt.legend(loc=\"lower right\")\n",
    "plt.show()"
   ]
  },
  {
   "cell_type": "code",
   "execution_count": 105,
   "metadata": {
    "collapsed": false
   },
   "outputs": [
    {
     "name": "stdout",
     "output_type": "stream",
     "text": [
      "Cleaning and parsing the test set movie reviews...\n",
      "\n",
      "Review 1000 of 25000\n",
      "\n",
      "Review 2000 of 25000\n",
      "\n",
      "Review 3000 of 25000\n",
      "\n",
      "Review 4000 of 25000\n",
      "\n",
      "Review 5000 of 25000\n",
      "\n",
      "Review 6000 of 25000\n",
      "\n",
      "Review 7000 of 25000\n",
      "\n",
      "Review 8000 of 25000\n",
      "\n",
      "Review 9000 of 25000\n",
      "\n",
      "Review 10000 of 25000\n",
      "\n",
      "Review 11000 of 25000\n",
      "\n",
      "Review 12000 of 25000\n",
      "\n",
      "Review 13000 of 25000\n",
      "\n",
      "Review 14000 of 25000\n",
      "\n",
      "Review 15000 of 25000\n",
      "\n",
      "Review 16000 of 25000\n",
      "\n",
      "Review 17000 of 25000\n",
      "\n",
      "Review 18000 of 25000\n",
      "\n",
      "Review 19000 of 25000\n",
      "\n",
      "Review 20000 of 25000\n",
      "\n",
      "Review 21000 of 25000\n",
      "\n",
      "Review 22000 of 25000\n",
      "\n",
      "Review 23000 of 25000\n",
      "\n",
      "Review 24000 of 25000\n",
      "\n",
      "Review 25000 of 25000\n",
      "\n"
     ]
    }
   ],
   "source": [
    "################## Create test matrices from testData.csv ############################\n",
    "test = pd.read_csv(\"testData.tsv\", header = 0, delimiter = \"\\t\", quoting = 3)\n",
    "\n",
    "# Get the number of reviews based on the dataframe column size\n",
    "num_testreviews = test[\"review\"].size\n",
    "\n",
    "print (\"Cleaning and parsing the test set movie reviews...\\n\")\n",
    "clean_test_reviews = []\n",
    "for i in range( 0, num_testreviews ):\n",
    "    # If the index is evenly divisible by 1000, print a message\n",
    "    if( (i+1)%1000 == 0 ):\n",
    "        print (\"Review %d of %d\\n\" % ( i+1, num_testreviews ) )                                                                   \n",
    "    clean_test_reviews.append( review_to_words( test[\"review\"][i] ))"
   ]
  },
  {
   "cell_type": "code",
   "execution_count": 1,
   "metadata": {
    "collapsed": false
   },
   "outputs": [
    {
     "name": "stdout",
     "output_type": "stream",
     "text": [
      "Creating the bag of words...\n",
      "\n"
     ]
    },
    {
     "ename": "NameError",
     "evalue": "name 'clean_test_reviews' is not defined",
     "output_type": "error",
     "traceback": [
      "\u001b[0;31m---------------------------------------------------------------------------\u001b[0m",
      "\u001b[0;31mNameError\u001b[0m                                 Traceback (most recent call last)",
      "\u001b[0;32m<ipython-input-1-5d36eadf1fe3>\u001b[0m in \u001b[0;36m<module>\u001b[0;34m()\u001b[0m\n\u001b[1;32m     10\u001b[0m \u001b[1;31m# into feature vectors. The input to fit_transform should be a list of\u001b[0m\u001b[1;33m\u001b[0m\u001b[1;33m\u001b[0m\u001b[0m\n\u001b[1;32m     11\u001b[0m \u001b[1;31m# strings.\u001b[0m\u001b[1;33m\u001b[0m\u001b[1;33m\u001b[0m\u001b[0m\n\u001b[0;32m---> 12\u001b[0;31m \u001b[0mtest_data_features\u001b[0m \u001b[1;33m=\u001b[0m \u001b[0mvectorizer\u001b[0m\u001b[1;33m.\u001b[0m\u001b[0mfit_transform\u001b[0m\u001b[1;33m(\u001b[0m\u001b[0mclean_test_reviews\u001b[0m\u001b[1;33m)\u001b[0m\u001b[1;33m\u001b[0m\u001b[0m\n\u001b[0m\u001b[1;32m     13\u001b[0m \u001b[1;33m\u001b[0m\u001b[0m\n\u001b[1;32m     14\u001b[0m \u001b[1;31m# Numpy arrays are easy to work with, so convert the result to an\u001b[0m\u001b[1;33m\u001b[0m\u001b[1;33m\u001b[0m\u001b[0m\n",
      "\u001b[0;31mNameError\u001b[0m: name 'clean_test_reviews' is not defined"
     ]
    }
   ],
   "source": [
    "print (\"Creating the bag of words...\\n\")\n",
    "from sklearn.feature_extraction.text import CountVectorizer\n",
    "\n",
    "# Initialize the \"CountVectorizer\" object, which is scikit-learn's\n",
    "# bag of words tool.  \n",
    "vectorizer = CountVectorizer(analyzer = \"word\",   \\\n",
    "                             tokenizer = None,    \\\n",
    "                             preprocessor = None, \\\n",
    "                             stop_words = None,   \\\n",
    "                             max_features = 5000) \n",
    "\n",
    "# fit_transform() does two functions: First, it fits the model\n",
    "# and learns the vocabulary; second, it transforms our training data\n",
    "# into feature vectors. The input to fit_transform should be a list of \n",
    "# strings.\n",
    "test_data_features = vectorizer.fit_transform(clean_test_reviews)\n",
    "\n",
    "# Numpy arrays are easy to work with, so convert the result to an \n",
    "# array\n",
    "#train_data_features = train_data_features.toarray()\n",
    "X_testcounts = test_data_features.toarray()"
   ]
  },
  {
   "cell_type": "code",
   "execution_count": 110,
   "metadata": {
    "collapsed": true
   },
   "outputs": [],
   "source": [
    "###Creating the X_testbinary matrix\n",
    "\n",
    "import numpy as np\n",
    "\n",
    "X_testbinary = np.zeros(shape=(25000,5000))\n",
    "\n",
    "for i in range(0,24999):\n",
    "    for j in range(0,4999):\n",
    "        if (X_testcounts[i][j] > 0):\n",
    "            X_testbinary[i][j] = 1\n",
    "            "
   ]
  },
  {
   "cell_type": "code",
   "execution_count": 114,
   "metadata": {
    "collapsed": false
   },
   "outputs": [],
   "source": [
    "###Creating the X_testtfifd matrix\n",
    "\n",
    "import sklearn\n",
    "from sklearn.feature_extraction.text import TfidfTransformer\n",
    "tfidf_testtransformer = TfidfTransformer(smooth_idf=False)\n",
    "X_testtfidf = tfidf_testtransformer.fit_transform(X_testcounts)"
   ]
  },
  {
   "cell_type": "code",
   "execution_count": 134,
   "metadata": {
    "collapsed": false
   },
   "outputs": [],
   "source": [
    "################ predicting on the X_testbinary design matrix (Kaggle test set) ######################\n",
    "\n",
    "y_test_predicted = clf_binary.predict(X_testbinary)\n",
    "\n"
   ]
  },
  {
   "cell_type": "code",
   "execution_count": 149,
   "metadata": {
    "collapsed": false
   },
   "outputs": [],
   "source": [
    "import csv\n",
    "kaggle_submission = pd.DataFrame(\n",
    "    {'id': test[\"id\"].tolist(),\n",
    "     'sentiment': y_test_predicted.tolist()\n",
    "    })\n",
    "\n",
    "kaggle_submission.to_csv('kaggle_submission.csv', index = False, quoting = csv.QUOTE_NONE)"
   ]
  },
  {
   "cell_type": "code",
   "execution_count": null,
   "metadata": {
    "collapsed": true
   },
   "outputs": [],
   "source": [
    "################## submission scored 0.57928 ###########################"
   ]
  },
  {
   "cell_type": "code",
   "execution_count": null,
   "metadata": {
    "collapsed": true
   },
   "outputs": [],
   "source": [
    "############################ Q4. Logistic Regression Learning Curve ##############################"
   ]
  },
  {
   "cell_type": "code",
   "execution_count": 120,
   "metadata": {
    "collapsed": true
   },
   "outputs": [],
   "source": [
    "from sklearn.linear_model import LogisticRegression\n",
    "from sklearn.model_selection import train_test_split\n",
    "\n",
    "tgtSent = np.array(train[\"sentiment\"], dtype=pd.Series)\n",
    "sampleSizes = [100, 500, 1000, 2000, 3000, 4000, 5000, 7500, 10000, 15000, 20000]\n",
    "\n",
    "\n",
    "listTrainingError = []\n",
    "\n",
    "for sampleSize in sampleSizes:\n",
    "    randomIndex = random.sample(range(0,25000), sampleSize)\n",
    "    \n",
    "    X_train, X_test, y_train, y_test = train_test_split(X_counts.astype(int)[randomIndex], tgtSent.astype(int)[randomIndex], test_size=0.2, random_state=0)\n",
    "    model2 = LogisticRegression()\n",
    "    model2.fit(X_train, y_train)\n",
    "    predicted = model2.predict(X_test)\n",
    "    listTrainingError.append(float('%.3f'%(1- (np.sum(y_test == predicted)/sampleSize))))"
   ]
  },
  {
   "cell_type": "code",
   "execution_count": null,
   "metadata": {
    "collapsed": true
   },
   "outputs": [],
   "source": [
    "print(listTrainingError)"
   ]
  },
  {
   "cell_type": "code",
   "execution_count": 121,
   "metadata": {
    "collapsed": false
   },
   "outputs": [
    {
     "data": {
      "text/plain": [
       "<matplotlib.text.Text at 0x17ecb8d9748>"
      ]
     },
     "execution_count": 121,
     "metadata": {},
     "output_type": "execute_result"
    },
    {
     "data": {
      "image/png": "[encoded data removed]",
      "text/plain": [
       "<matplotlib.figure.Figure at 0x17ecd065048>"
      ]
     },
     "metadata": {},
     "output_type": "display_data"
    }
   ],
   "source": [
    "%matplotlib inline\n",
    "import matplotlib.pyplot as plt\n",
    " \n",
    "plt.figure()\n",
    "\n",
    "plt.plot(sampleSizes, listTrainingError)\n",
    "\n",
    "plt.xlabel(\"Number of training data points\")\n",
    "plt.ylabel(\"Training error (fraction)\")\n",
    "plt.title(\"Logistic Regression Learning Curve\")\n"
   ]
  },
  {
   "cell_type": "code",
   "execution_count": null,
   "metadata": {
    "collapsed": true
   },
   "outputs": [],
   "source": [
    "Logistic Regression Learning Curve interpretation:\n",
    "As the number of data points in the training set increases, the model's performance:\n",
    "1. Improves\n",
    "2. Stabilizes \n",
    "in terms of the training error"
   ]
  }
 ],
 "metadata": {
  "anaconda-cloud": {},
  "kernelspec": {
   "display_name": "Python [default]",
   "language": "python",
   "name": "python3"
  },
  "language_info": {
   "codemirror_mode": {
    "name": "ipython",
    "version": 3
   },
   "file_extension": ".py",
   "mimetype": "text/x-python",
   "name": "python",
   "nbconvert_exporter": "python",
   "pygments_lexer": "ipython3",
   "version": "3.5.2"
  }
 },
 "nbformat": 4,
 "nbformat_minor": 1
}
