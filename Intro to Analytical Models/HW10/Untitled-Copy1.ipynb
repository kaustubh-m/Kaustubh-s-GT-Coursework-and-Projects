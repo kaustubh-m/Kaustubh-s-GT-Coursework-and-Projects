{
 "cells": [
  {
   "cell_type": "code",
   "execution_count": 8,
   "metadata": {
    "collapsed": true
   },
   "outputs": [],
   "source": [
    "import csv\n",
    "from pulp import *\n",
    "\n",
    "with open('diet_test.csv') as csvfile:\n",
    "    reader = csv.reader(csvfile)\n",
    "    next(reader, None)\n",
    "    data = list(reader)\n",
    "    data = data[:-3]\n",
    "#print(data[0])\n",
    "\n",
    "foods = [x[0] for x in data]\n",
    "cost = dict([(x[0], float(x[1][1:])) for x in data])\n",
    "calories = dict([(x[0], float(x[3])) for x in data])\n",
    "carbs = dict([(x[0], float(x[7])) for x in data])\n",
    "protein = dict([(x[0], float(x[7])) for x in data])\n",
    "cholesterol = dict([(x[0], float(x[4])) for x in data])\n",
    "fat = dict([(x[0], float(x[5])) for x in data])\n",
    "sodium = dict([(x[0], float(x[6])) for x in data])\n",
    "vitA = dict([(x[0], float(x[8])) for x in data])\n",
    "vitC = dict([(x[0], float(x[9])) for x in data])\n",
    "calcm = dict([(x[0], float(x[10])) for x in data])\n",
    "iron = dict([(x[0], float(x[11])) for x in data])\n",
    "\n",
    "prob = LpProblem('My Problem', LpMinimize)\n",
    "foodVars = LpVariable.dicts('Food', foods, 0, None)\n",
    "foodFlag = LpVariable.dicts('Food Flag', foods, 0, 1, LpBinary)\n"
   ]
  },
  {
   "cell_type": "code",
   "execution_count": 9,
   "metadata": {
    "collapsed": false
   },
   "outputs": [],
   "source": [
    "prob += lpSum([cost[f] * foodVars[f] for f in foods]), 'Total Cost'\n",
    "\n",
    "prob += lpSum([calories[f] * foodVars[f] for f in foods]) >= 1500, 'Min Total Calories'\n",
    "prob += lpSum([calories[f] * foodVars[f] for f in foods]) <= 2500, 'Max Total Calories'\n",
    "\n",
    "prob += lpSum([carbs[f] * foodVars[f] for f in foods]) >= 130, 'Total Carbs Min'\n",
    "prob += lpSum([carbs[f] * foodVars[f] for f in foods]) <= 450, 'Total Carbs Max'\n",
    "\n",
    "prob += lpSum([protein[f] * foodVars[f] for f in foods]) >= 60, 'Total Protein Min'\n",
    "prob += lpSum([protein[f] * foodVars[f] for f in foods]) <= 100, 'Total Protein Max'\n",
    "\n",
    "prob += lpSum([cholesterol[f] * foodVars[f] for f in foods]) >= 30, 'Total Cholesterol Min'\n",
    "prob += lpSum([cholesterol[f] * foodVars[f] for f in foods]) <= 240, 'Total Cholesterol Max'\n",
    "\n",
    "prob += lpSum([fat[f] * foodVars[f] for f in foods]) >= 20, 'Total Fat Min'\n",
    "prob += lpSum([fat[f] * foodVars[f] for f in foods]) <= 70, 'Total Fat Max'\n",
    "\n",
    "prob += lpSum([sodium[f] * foodVars[f] for f in foods]) >= 800, 'Total Sodium Min'\n",
    "prob += lpSum([sodium[f] * foodVars[f] for f in foods]) <= 2000, 'Total Sodium Max'\n",
    "\n",
    "prob += lpSum([vitA[f] * foodVars[f] for f in foods]) >= 1000, 'Total Vitamin A Min'\n",
    "prob += lpSum([vitA[f] * foodVars[f] for f in foods]) <= 10000, 'Total Vitamin A Max'\n",
    "\n",
    "prob += lpSum([vitC[f] * foodVars[f] for f in foods]) >= 400, 'Total Vitamin C Min'\n",
    "prob += lpSum([vitC[f] * foodVars[f] for f in foods]) <= 5000, 'Total Vitamin C Max'\n",
    "\n",
    "prob += lpSum([calcm[f] * foodVars[f] for f in foods]) >= 700, 'Total Calcium Min'\n",
    "prob += lpSum([calcm[f] * foodVars[f] for f in foods]) <= 1500, 'Total Calcium Max'\n",
    "\n",
    "prob += lpSum([iron[f] * foodVars[f] for f in foods]) >= 10, 'Total Iron Min'\n",
    "prob += lpSum([iron[f] * foodVars[f] for f in foods]) <= 40, 'Total Iron Max'\n",
    "\n",
    "\n",
    "#prob += foodVars[f] for f in foods]\n",
    "\n"
   ]
  },
  {
   "cell_type": "code",
   "execution_count": 10,
   "metadata": {
    "collapsed": false
   },
   "outputs": [],
   "source": [
    "#type(foodVars[1])"
   ]
  },
  {
   "cell_type": "code",
   "execution_count": 11,
   "metadata": {
    "collapsed": false
   },
   "outputs": [],
   "source": [
    "# at least 1/10 or 0 contraint\n",
    "#for f in foods:\n",
    "#    prob += foodVars[f] <= 0.1 + 10000*foodFlag[f]\n",
    "    \n",
    "for f in foods:\n",
    "    prob += lpSum([foodVars[f]]) >= 0.1 - 10000*(1-foodFlag[f])"
   ]
  },
  {
   "cell_type": "code",
   "execution_count": 12,
   "metadata": {
    "collapsed": false
   },
   "outputs": [
    {
     "name": "stdout",
     "output_type": "stream",
     "text": [
      "Food_Bologna,Turkey=15409.328\n",
      "Food_Celery,_Raw=226.26935\n",
      "Food_Popcorn,Air_Popped=3886.1856\n",
      "Food_Tofu=19423.063\n"
     ]
    }
   ],
   "source": [
    "prob.solve()\n",
    "\n",
    "for var in prob.variables():\n",
    "    if var.varValue > 0:\n",
    "        print(var.name + '=' + str(var.varValue))"
   ]
  }
 ],
 "metadata": {
  "anaconda-cloud": {},
  "kernelspec": {
   "display_name": "Python [default]",
   "language": "python",
   "name": "python3"
  },
  "language_info": {
   "codemirror_mode": {
    "name": "ipython",
    "version": 3
   },
   "file_extension": ".py",
   "mimetype": "text/x-python",
   "name": "python",
   "nbconvert_exporter": "python",
   "pygments_lexer": "ipython3",
   "version": "3.5.2"
  }
 },
 "nbformat": 4,
 "nbformat_minor": 0
}
