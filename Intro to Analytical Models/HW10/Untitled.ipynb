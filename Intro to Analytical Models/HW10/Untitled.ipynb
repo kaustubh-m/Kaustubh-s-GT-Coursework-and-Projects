{
 "cells": [
  {
   "cell_type": "code",
   "execution_count": 1,
   "metadata": {
    "collapsed": false
   },
   "outputs": [],
   "source": [
    "import csv\n",
    "from pulp import *\n",
    "\n",
    "with open('diet_test.csv') as csvfile:\n",
    "    reader = csv.reader(csvfile)\n",
    "    next(reader, None)\n",
    "    data = list(reader)\n",
    "    data = data[:-3]\n",
    "#print(data[0])\n",
    "\n",
    "foods = [x[0] for x in data]\n",
    "cost = dict([(x[0], float(x[1][1:])) for x in data])\n",
    "calories = dict([(x[0], float(x[3])) for x in data])\n",
    "carbs = dict([(x[0], float(x[7])) for x in data])\n",
    "protein = dict([(x[0], float(x[7])) for x in data])\n",
    "cholesterol = dict([(x[0], float(x[4])) for x in data])\n",
    "fat = dict([(x[0], float(x[5])) for x in data])\n",
    "sodium = dict([(x[0], float(x[6])) for x in data])\n",
    "vitA = dict([(x[0], float(x[8])) for x in data])\n",
    "vitC = dict([(x[0], float(x[9])) for x in data])\n",
    "calcm = dict([(x[0], float(x[10])) for x in data])\n",
    "iron = dict([(x[0], float(x[11])) for x in data])\n",
    "\n",
    "prob = LpProblem('My Problem', LpMinimize)\n",
    "foodVars = LpVariable.dicts('Food', foods, 0, None)\n",
    "foodFlag = LpVariable.dicts('Food Flag', foods, 0, 1, LpBinary)\n",
    "\n",
    "#print(foodVars)\n",
    "\n"
   ]
  },
  {
   "cell_type": "code",
   "execution_count": 2,
   "metadata": {
    "collapsed": false
   },
   "outputs": [],
   "source": [
    "prob += lpSum([cost[f] * foodVars[f] for f in foods]), 'Total Cost'\n",
    "\n",
    "prob += lpSum([calories[f] * foodVars[f] for f in foods]) >= 1500, 'Min Total Calories'\n",
    "prob += lpSum([calories[f] * foodVars[f] for f in foods]) <= 2500, 'Max Total Calories'\n",
    "\n",
    "prob += lpSum([carbs[f] * foodVars[f] for f in foods]) >= 130, 'Total Carbs Min'\n",
    "prob += lpSum([carbs[f] * foodVars[f] for f in foods]) <= 450, 'Total Carbs Max'\n",
    "\n",
    "prob += lpSum([protein[f] * foodVars[f] for f in foods]) >= 60, 'Total Protein Min'\n",
    "prob += lpSum([protein[f] * foodVars[f] for f in foods]) <= 100, 'Total Protein Max'\n",
    "\n",
    "prob += lpSum([cholesterol[f] * foodVars[f] for f in foods]) >= 30, 'Total Cholesterol Min'\n",
    "prob += lpSum([cholesterol[f] * foodVars[f] for f in foods]) <= 240, 'Total Cholesterol Max'\n",
    "\n",
    "prob += lpSum([fat[f] * foodVars[f] for f in foods]) >= 20, 'Total Fat Min'\n",
    "prob += lpSum([fat[f] * foodVars[f] for f in foods]) <= 70, 'Total Fat Max'\n",
    "\n",
    "prob += lpSum([sodium[f] * foodVars[f] for f in foods]) >= 800, 'Total Sodium Min'\n",
    "prob += lpSum([sodium[f] * foodVars[f] for f in foods]) <= 2000, 'Total Sodium Max'\n",
    "\n",
    "prob += lpSum([vitA[f] * foodVars[f] for f in foods]) >= 1000, 'Total Vitamin A Min'\n",
    "prob += lpSum([vitA[f] * foodVars[f] for f in foods]) <= 10000, 'Total Vitamin A Max'\n",
    "\n",
    "prob += lpSum([vitC[f] * foodVars[f] for f in foods]) >= 400, 'Total Vitamin C Min'\n",
    "prob += lpSum([vitC[f] * foodVars[f] for f in foods]) <= 5000, 'Total Vitamin C Max'\n",
    "\n",
    "prob += lpSum([calcm[f] * foodVars[f] for f in foods]) >= 700, 'Total Calcium Min'\n",
    "prob += lpSum([calcm[f] * foodVars[f] for f in foods]) <= 1500, 'Total Calcium Max'\n",
    "\n",
    "prob += lpSum([iron[f] * foodVars[f] for f in foods]) >= 10, 'Total Iron Min'\n",
    "prob += lpSum([iron[f] * foodVars[f] for f in foods]) <= 40, 'Total Iron Max'\n",
    "\n",
    "\n",
    "#prob += foodVars[f] for f in foods]\n",
    "\n"
   ]
  },
  {
   "cell_type": "code",
   "execution_count": 5,
   "metadata": {
    "collapsed": false
   },
   "outputs": [],
   "source": [
    "prob += lpSum([foodFlag['Frozen Broccoli'], foodFlag['Celery, Raw']]) <= 1, 'Celery Broccoli'\n",
    "\n",
    "# meat, poultry, fish\n",
    "prob += lpSum([foodFlag['Roasted Chicken'] + foodFlag['Poached Eggs'] + foodFlag['Scrambled Eggs'] \n",
    "               + foodFlag['Bologna,Turkey'] + foodFlag['Frankfurter, Beef'] + foodFlag['Ham,Sliced,Extralean'] \n",
    "               + foodFlag['Kielbasa,Prk'] + foodFlag['Pork'] + foodFlag['Sardines in Oil'] \n",
    "               + foodFlag['White Tuna in Water'] + foodFlag['Chicknoodl Soup'] \n",
    "               + foodFlag['Splt Pea&Hamsoup']]) >= 3, 'Meat'\n",
    "\n",
    "# vegetables          \n",
    "prob += lpSum([foodFlag['Frozen Broccoli'] + foodFlag['Carrots,Raw'] + foodFlag['Celery, Raw'] + foodFlag['Frozen Corn'] +\n",
    "                    foodFlag['Lettuce,Iceberg,Raw'] + foodFlag['Peppers, Sweet, Raw'] + foodFlag['Potatoes, Baked'] +\n",
    "                    foodFlag['Tomato,Red,Ripe,Raw'] + foodFlag['Tomato Soup']]) >= 3, 'vegetables'\n",
    "# fruits\n",
    "prob += lpSum([foodFlag['Apple,Raw,W/Skin'] + foodFlag['Banana'] + foodFlag['Grapes'] + foodFlag['Kiwifruit,Raw,Fresh'] +\n",
    "                    foodFlag['Oranges']]) >= 3, 'fruit'\n",
    "# grains\n",
    "prob += lpSum([foodFlag['Wheat Bread'] + foodFlag['Malt-O-Meal,Choc'] + foodFlag['Bagels'] + foodFlag['White Bread'] +\n",
    "                    foodFlag[\"Cap'N Crunch\"] + foodFlag['Cheerios'] + foodFlag[\"Corn Flks, Kellogg'S\"] + foodFlag[\"Raisin Brn, Kellg'S\"] +\n",
    "                    foodFlag['Rice Krispies'] + foodFlag['Special K'] + foodFlag['Oatmeal'] \n",
    "               + foodFlag['Couscous'] + foodFlag['White Rice']]) >= 3, 'grain'\n",
    "# beans/nuts\n",
    "prob += lpSum([foodFlag['Peanut Butter'] + foodFlag['Beanbacn Soup,W/Watr'] + foodFlag['Splt Pea&Hamsoup']]) >= 3, 'bean'\n",
    "# dairy products\n",
    "prob += lpSum([foodFlag['Cheddar Cheese'] + foodFlag['3.3% Fat,Whole Milk'] + foodFlag['2% Lowfat Milk'] +\n",
    "                    foodFlag['Skim Milk'] + foodFlag['New E Clamchwd,W/Mlk'] + foodFlag['Crm Mshrm Soup,W/Mlk']]) >= 3, 'dairy'\n",
    "# dessert\n",
    "prob += lpSum([foodFlag['Apple Pie'] + foodFlag['Chocolate Chip Cookies'] + foodFlag['Oatmeal Cookies']]) >= 3, 'dessert'\n"
   ]
  },
  {
   "cell_type": "code",
   "execution_count": null,
   "metadata": {
    "collapsed": false
   },
   "outputs": [],
   "source": [
    "#type(foodVars[1])"
   ]
  },
  {
   "cell_type": "code",
   "execution_count": 6,
   "metadata": {
    "collapsed": false
   },
   "outputs": [],
   "source": [
    "# at least 1/10 or 0 contraint\n",
    "#for f in foods:\n",
    "#    prob += foodVars[f] <= 0.1 + 10000*foodFlag[f]\n",
    "    \n",
    "for f in foods:\n",
    "    prob += lpSum([foodVars[f]]) >= 0.1 - 10000*(1-foodFlag[f])"
   ]
  },
  {
   "cell_type": "code",
   "execution_count": 7,
   "metadata": {
    "collapsed": false
   },
   "outputs": [
    {
     "name": "stdout",
     "output_type": "stream",
     "text": [
      "Food_Apple_Pie=0.1\n",
      "Food_Bologna,Turkey=15418.374\n",
      "Food_Celery,_Raw=226.36215\n",
      "Food_Chocolate_Chip_Cookies=0.1\n",
      "Food_Flag_2%_Lowfat_Milk=0.99999\n",
      "Food_Flag_3.3%_Fat,Whole_Milk=0.99999\n",
      "Food_Flag_Apple,Raw,W_Skin=0.99999\n",
      "Food_Flag_Apple_Pie=1.0\n",
      "Food_Flag_Banana=0.99999\n",
      "Food_Flag_Beanbacn_Soup,W_Watr=0.83083243\n",
      "Food_Flag_Celery,_Raw=1.0\n",
      "Food_Flag_Cheddar_Cheese=3e-05\n",
      "Food_Flag_Chocolate_Chip_Cookies=1.0\n",
      "Food_Flag_Couscous=0.99999\n",
      "Food_Flag_Frozen_Corn=0.99999\n",
      "Food_Flag_Grapes=0.99999\n",
      "Food_Flag_Lettuce,Iceberg,Raw=0.99999\n",
      "Food_Flag_Oatmeal=0.99999\n",
      "Food_Flag_Oatmeal_Cookies=1.0\n",
      "Food_Flag_Oranges=3e-05\n",
      "Food_Flag_Sardines_in_Oil=0.99999\n",
      "Food_Flag_Skim_Milk=0.99999\n",
      "Food_Flag_Splt_Pea&Hamsoup=2.5281881\n",
      "Food_Flag_Tomato,Red,Ripe,Raw=2e-05\n",
      "Food_Flag_White_Bread=3e-05\n",
      "Food_Flag_White_Rice=0.99999\n",
      "Food_Oatmeal_Cookies=0.1\n",
      "Food_Popcorn,Air_Popped=3888.3528\n",
      "Food_Tofu=19434.494\n"
     ]
    }
   ],
   "source": [
    "prob.solve()\n",
    "\n",
    "for var in prob.variables():\n",
    "    if var.varValue > 0:\n",
    "        print(var.name + '=' + str(var.varValue))"
   ]
  }
 ],
 "metadata": {
  "anaconda-cloud": {},
  "kernelspec": {
   "display_name": "Python [default]",
   "language": "python",
   "name": "python3"
  },
  "language_info": {
   "codemirror_mode": {
    "name": "ipython",
    "version": 3
   },
   "file_extension": ".py",
   "mimetype": "text/x-python",
   "name": "python",
   "nbconvert_exporter": "python",
   "pygments_lexer": "ipython3",
   "version": "3.5.2"
  }
 },
 "nbformat": 4,
 "nbformat_minor": 0
}
